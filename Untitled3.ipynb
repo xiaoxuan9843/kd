{
 "cells": [
  {
   "cell_type": "code",
   "execution_count": null,
   "metadata": {},
   "outputs": [],
   "source": [
    "import openpyxl\n",
    "import pandas as pd\n",
    "import os\n",
    "import datetime"
   ]
  },
  {
   "cell_type": "code",
   "execution_count": 1,
   "metadata": {},
   "outputs": [],
   "source": [
    "def print_full(x):\n",
    "    df = pd.DataFrame(x)\n",
    "    pd.set_option('display.max_rows', 2000)\n",
    "    pd.set_option('display.max_columns', 20)\n",
    "    display(df)"
   ]
  },
  {
   "cell_type": "code",
   "execution_count": null,
   "metadata": {},
   "outputs": [],
   "source": [
    "excelname= \"kd\"\n",
    "sheetname = \"kd\"\n",
    "\n",
    "wb = openpyxl.load_workbook(str(excelname)+\".xlsx\")\n",
    "ws = wb[str(sheetname)]"
   ]
  },
  {
   "cell_type": "code",
   "execution_count": null,
   "metadata": {},
   "outputs": [],
   "source": [
    "excelname= \"kd\"\n",
    "sheetname = \"kd\"\n",
    "\n",
    "wb = openpyxl.load_workbook(str(excelname)+\".xlsx\")\n",
    "ws = wb[str(sheetname)]\n",
    "\n",
    "dataset = []\n",
    "\n",
    "i = 1\n",
    "while(ws.cell(row=i, column=1).value!=None):\n",
    "    row = []\n",
    "    j = 1\n",
    "    while(ws.cell(row=i, column=j).value!=None):\n",
    "        row.append(ws.cell(row=i, column=j).value)\n",
    "        j = j +1\n",
    "    dataset.append(row)\n",
    "    i = i + 1"
   ]
  },
  {
   "cell_type": "code",
   "execution_count": null,
   "metadata": {},
   "outputs": [],
   "source": [
    "trade =[[0 for x in range(8)] for y in range(len(dataset))]\n",
    "trade[0][0] = \"date\"\n",
    "trade[0][1] = \"open\"\n",
    "trade[0][2] = \"high\"\n",
    "trade[0][3] = \"low\"\n",
    "trade[0][4] = \"close\"\n",
    "trade[0][5] = \"rsv\"\n",
    "trade[0][6] = \"k\"\n",
    "trade[0][7] = \"d\""
   ]
  },
  {
   "cell_type": "code",
   "execution_count": null,
   "metadata": {},
   "outputs": [],
   "source": [
    "for i in range(1, len(trade)):\n",
    "    trade[i][0] = dataset[i][0]\n",
    "    trade[i][1] = float(dataset[i][1])\n",
    "    trade[i][2] = float(dataset[i][2])\n",
    "    trade[i][3] = float(dataset[i][3])\n",
    "    trade[i][4] = float(dataset[i][4])\n",
    "    \n",
    "for i in range(9, len(trade)):\n",
    "    high = 0\n",
    "    low = 10000\n",
    "    \n",
    "    temp = [0, 0, 0, 0, 0, 0, 0, 0, 0] \n",
    "    \n",
    "    for j in range(0, 9):\n",
    "        temp[j] = trade[i-j][2]\n",
    "        if temp[j]>high:\n",
    "            high = temp[j]\n",
    "    for k in range(0, 9):\n",
    "        temp[k] = trade[i-k][3]\n",
    "        if temp[k]<low:\n",
    "            low = temp[k]\n",
    "    spread = high - low\n",
    "    cp = trade[i][4]\n",
    "    x = (cp - low)\n",
    "    rsv = x/spread*100\n",
    "    trade[i][5] = rsv"
   ]
  },
  {
   "cell_type": "code",
   "execution_count": null,
   "metadata": {},
   "outputs": [],
   "source": [
    "trade[9][6] = 50\n",
    "trade[9][7] = 50\n",
    "\n",
    "for i in range(10, len(trade)):\n",
    "    k = 0\n",
    "    d = 0\n",
    "    \n",
    "    k = (2/3)*trade[i-1][6] + (1/3)*trade[i][5]\n",
    "    d = (2/3)*trade[i-1][7] + (1/3)*trade[i][6]\n",
    "    trade[i][6] = k\n",
    "    trade[i][7] = d"
   ]
  },
  {
   "cell_type": "code",
   "execution_count": null,
   "metadata": {},
   "outputs": [],
   "source": [
    "for i in range(10, len(trade)):\n",
    "    if(trade[i][6] > trade[i][7])and(trade[i-1][9]==0):\n",
    "        trade[i][8] = 1\n",
    "        trade[i][9] = 1\n",
    "        trade[i][10] = 0\n",
    "    elif(trade[i][6] < trade[i][7])and(trade[i-1][9]==1):\n",
    "        trade[i][8] = 0\n",
    "        trade[i][9] = 0\n",
    "        trade[i][10] = 1\n",
    "    elif(trade[i-1][9]>0):\n",
    "        trade[i][8] = 0\n",
    "        trade[i][9] = 1\n",
    "        trade[i][10] = 0"
   ]
  }
 ],
 "metadata": {
  "kernelspec": {
   "display_name": "Python 3",
   "language": "python",
   "name": "python3"
  },
  "language_info": {
   "codemirror_mode": {
    "name": "ipython",
    "version": 3
   },
   "file_extension": ".py",
   "mimetype": "text/x-python",
   "name": "python",
   "nbconvert_exporter": "python",
   "pygments_lexer": "ipython3",
   "version": "3.7.1"
  }
 },
 "nbformat": 4,
 "nbformat_minor": 2
}
